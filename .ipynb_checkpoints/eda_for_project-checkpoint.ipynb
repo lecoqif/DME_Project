{
 "cells": [
  {
   "cell_type": "code",
   "execution_count": 1,
   "metadata": {},
   "outputs": [],
   "source": [
    "import os\n",
    "import numpy as np \n",
    "import pandas as pd\n",
    "import matplotlib.pyplot as plt\n",
    "import seaborn as sns\n",
    "%matplotlib inline"
   ]
  },
  {
   "cell_type": "markdown",
   "metadata": {},
   "source": [
    "The data set had the current time missing for the first ~10 rows. These have been replaced with 00:00:00."
   ]
  },
  {
   "cell_type": "code",
   "execution_count": 2,
   "metadata": {},
   "outputs": [
    {
     "data": {
      "text/html": [
       "<div>\n",
       "<style scoped>\n",
       "    .dataframe tbody tr th:only-of-type {\n",
       "        vertical-align: middle;\n",
       "    }\n",
       "\n",
       "    .dataframe tbody tr th {\n",
       "        vertical-align: top;\n",
       "    }\n",
       "\n",
       "    .dataframe thead th {\n",
       "        text-align: right;\n",
       "    }\n",
       "</style>\n",
       "<table border=\"1\" class=\"dataframe\">\n",
       "  <thead>\n",
       "    <tr style=\"text-align: right;\">\n",
       "      <th></th>\n",
       "      <th>execution_time</th>\n",
       "      <th>no_of_mappers</th>\n",
       "      <th>no_of_Reducers</th>\n",
       "      <th>combiner_used</th>\n",
       "      <th>input_file_factor</th>\n",
       "      <th>current_time</th>\n",
       "    </tr>\n",
       "  </thead>\n",
       "  <tbody>\n",
       "    <tr>\n",
       "      <th>0</th>\n",
       "      <td>Script Execution Time: 142.88 seconds</td>\n",
       "      <td>Mappers: 1</td>\n",
       "      <td>Reducers: 1</td>\n",
       "      <td>Combiner Used: No</td>\n",
       "      <td>Input File: 100x</td>\n",
       "      <td>NaN</td>\n",
       "    </tr>\n",
       "    <tr>\n",
       "      <th>1</th>\n",
       "      <td>Script Execution Time: 119.57 seconds</td>\n",
       "      <td>Mappers: 1</td>\n",
       "      <td>Reducers: 2</td>\n",
       "      <td>Combiner Used: No</td>\n",
       "      <td>Input File: 100x</td>\n",
       "      <td>NaN</td>\n",
       "    </tr>\n",
       "    <tr>\n",
       "      <th>2</th>\n",
       "      <td>Script Execution Time: 110.75 seconds</td>\n",
       "      <td>Mappers: 1</td>\n",
       "      <td>Reducers: 3</td>\n",
       "      <td>Combiner Used: No</td>\n",
       "      <td>Input File: 100x</td>\n",
       "      <td>NaN</td>\n",
       "    </tr>\n",
       "    <tr>\n",
       "      <th>3</th>\n",
       "      <td>Script Execution Time: 111.18 seconds</td>\n",
       "      <td>Mappers: 1</td>\n",
       "      <td>Reducers: 4</td>\n",
       "      <td>Combiner Used: No</td>\n",
       "      <td>Input File: 100x</td>\n",
       "      <td>NaN</td>\n",
       "    </tr>\n",
       "    <tr>\n",
       "      <th>4</th>\n",
       "      <td>Script Execution Time: 105.59 seconds</td>\n",
       "      <td>Mappers: 1</td>\n",
       "      <td>Reducers: 5</td>\n",
       "      <td>Combiner Used: No</td>\n",
       "      <td>Input File: 100x</td>\n",
       "      <td>NaN</td>\n",
       "    </tr>\n",
       "  </tbody>\n",
       "</table>\n",
       "</div>"
      ],
      "text/plain": [
       "                           execution_time no_of_mappers no_of_Reducers  \\\n",
       "0  Script Execution Time: 142.88 seconds    Mappers: 1    Reducers: 1    \n",
       "1  Script Execution Time: 119.57 seconds    Mappers: 1    Reducers: 2    \n",
       "2  Script Execution Time: 110.75 seconds    Mappers: 1    Reducers: 3    \n",
       "3  Script Execution Time: 111.18 seconds    Mappers: 1    Reducers: 4    \n",
       "4  Script Execution Time: 105.59 seconds    Mappers: 1    Reducers: 5    \n",
       "\n",
       "         combiner_used  input_file_factor current_time  \n",
       "0   Combiner Used: No    Input File: 100x          NaN  \n",
       "1   Combiner Used: No    Input File: 100x          NaN  \n",
       "2   Combiner Used: No    Input File: 100x          NaN  \n",
       "3   Combiner Used: No    Input File: 100x          NaN  \n",
       "4   Combiner Used: No    Input File: 100x          NaN  "
      ]
     },
     "execution_count": 2,
     "metadata": {},
     "output_type": "execute_result"
    }
   ],
   "source": [
    "data_path = os.path.join(os.getcwd(),'results.txt')\n",
    "names=['execution_time', 'no_of_mappers', 'no_of_Reducers', 'combiner_used', 'input_file_factor', 'current_time']\n",
    "data_set_raw = pd.read_csv(data_path, delimiter = '|', names = names)\n",
    "data_set_raw.head(5)"
   ]
  },
  {
   "cell_type": "markdown",
   "metadata": {},
   "source": [
    "Currently each entry has the column label. These need removed and added to the dataframe columns. Define method to clean the dataset."
   ]
  },
  {
   "cell_type": "code",
   "execution_count": 3,
   "metadata": {},
   "outputs": [],
   "source": [
    "def clean_data(data_set_raw):\n",
    "    data_set = data_set_raw.copy() \n",
    "    data_set[names[0]] = pd.to_numeric(data_set[names[0]]\n",
    "                                            .str.split(':')\n",
    "                                            .str.get(1)\n",
    "                                            .str.split(' ')\n",
    "                                            .str.get(1))\n",
    "\n",
    "    data_set[names[1]] = pd.to_numeric(data_set[names[1]]\n",
    "                                            .str.split(':')\n",
    "                                            .str.get(1))\n",
    "\n",
    "    data_set[names[2]]= pd.to_numeric(data_set[names[2]]\n",
    "                                            .str.split(':')\n",
    "                                            .str.get(1))\n",
    "\n",
    "    data_set[names[3]] = data_set[names[3]].str.split(':').str.get(1).str.strip()\n",
    "    d = {'Yes': True, 'No': False}\n",
    "    data_set[names[3]] = data_set['combiner_used'].map(d)\n",
    "\n",
    "    data_set[names[4]]= pd.to_numeric(data_set[names[4]]\n",
    "                                            .str.split(':')\n",
    "                                            .str.get(1)\n",
    "                                            .str.strip().str.rstrip('x'))\n",
    "\n",
    "    data_set = data_set.drop(names[5], axis=1)\n",
    "    return data_set"
   ]
  },
  {
   "cell_type": "code",
   "execution_count": 4,
   "metadata": {},
   "outputs": [
    {
     "data": {
      "text/html": [
       "<div>\n",
       "<style scoped>\n",
       "    .dataframe tbody tr th:only-of-type {\n",
       "        vertical-align: middle;\n",
       "    }\n",
       "\n",
       "    .dataframe tbody tr th {\n",
       "        vertical-align: top;\n",
       "    }\n",
       "\n",
       "    .dataframe thead th {\n",
       "        text-align: right;\n",
       "    }\n",
       "</style>\n",
       "<table border=\"1\" class=\"dataframe\">\n",
       "  <thead>\n",
       "    <tr style=\"text-align: right;\">\n",
       "      <th></th>\n",
       "      <th>execution_time</th>\n",
       "      <th>no_of_mappers</th>\n",
       "      <th>no_of_Reducers</th>\n",
       "      <th>combiner_used</th>\n",
       "      <th>input_file_factor</th>\n",
       "    </tr>\n",
       "  </thead>\n",
       "  <tbody>\n",
       "    <tr>\n",
       "      <th>27</th>\n",
       "      <td>68.52</td>\n",
       "      <td>2</td>\n",
       "      <td>8</td>\n",
       "      <td>False</td>\n",
       "      <td>100</td>\n",
       "    </tr>\n",
       "    <tr>\n",
       "      <th>334</th>\n",
       "      <td>39.36</td>\n",
       "      <td>17</td>\n",
       "      <td>15</td>\n",
       "      <td>False</td>\n",
       "      <td>100</td>\n",
       "    </tr>\n",
       "    <tr>\n",
       "      <th>730</th>\n",
       "      <td>36.39</td>\n",
       "      <td>17</td>\n",
       "      <td>11</td>\n",
       "      <td>True</td>\n",
       "      <td>100</td>\n",
       "    </tr>\n",
       "    <tr>\n",
       "      <th>392</th>\n",
       "      <td>39.19</td>\n",
       "      <td>20</td>\n",
       "      <td>13</td>\n",
       "      <td>False</td>\n",
       "      <td>100</td>\n",
       "    </tr>\n",
       "    <tr>\n",
       "      <th>495</th>\n",
       "      <td>44.37</td>\n",
       "      <td>5</td>\n",
       "      <td>16</td>\n",
       "      <td>True</td>\n",
       "      <td>100</td>\n",
       "    </tr>\n",
       "    <tr>\n",
       "      <th>318</th>\n",
       "      <td>41.25</td>\n",
       "      <td>16</td>\n",
       "      <td>19</td>\n",
       "      <td>False</td>\n",
       "      <td>100</td>\n",
       "    </tr>\n",
       "    <tr>\n",
       "      <th>190</th>\n",
       "      <td>41.53</td>\n",
       "      <td>10</td>\n",
       "      <td>11</td>\n",
       "      <td>False</td>\n",
       "      <td>100</td>\n",
       "    </tr>\n",
       "  </tbody>\n",
       "</table>\n",
       "</div>"
      ],
      "text/plain": [
       "     execution_time  no_of_mappers  no_of_Reducers  combiner_used  \\\n",
       "27            68.52              2               8          False   \n",
       "334           39.36             17              15          False   \n",
       "730           36.39             17              11           True   \n",
       "392           39.19             20              13          False   \n",
       "495           44.37              5              16           True   \n",
       "318           41.25             16              19          False   \n",
       "190           41.53             10              11          False   \n",
       "\n",
       "     input_file_factor  \n",
       "27                 100  \n",
       "334                100  \n",
       "730                100  \n",
       "392                100  \n",
       "495                100  \n",
       "318                100  \n",
       "190                100  "
      ]
     },
     "execution_count": 4,
     "metadata": {},
     "output_type": "execute_result"
    }
   ],
   "source": [
    "data_set = clean_data(data_set_raw)\n",
    "data_set.sample(7, random_state=10)"
   ]
  },
  {
   "cell_type": "markdown",
   "metadata": {},
   "source": [
    "Display info about columns."
   ]
  },
  {
   "cell_type": "code",
   "execution_count": 5,
   "metadata": {},
   "outputs": [
    {
     "name": "stdout",
     "output_type": "stream",
     "text": [
      "<class 'pandas.core.frame.DataFrame'>\n",
      "RangeIndex: 800 entries, 0 to 799\n",
      "Data columns (total 5 columns):\n",
      " #   Column             Non-Null Count  Dtype  \n",
      "---  ------             --------------  -----  \n",
      " 0   execution_time     800 non-null    float64\n",
      " 1   no_of_mappers      800 non-null    int64  \n",
      " 2   no_of_Reducers     800 non-null    int64  \n",
      " 3   combiner_used      800 non-null    bool   \n",
      " 4   input_file_factor  800 non-null    int64  \n",
      "dtypes: bool(1), float64(1), int64(3)\n",
      "memory usage: 25.9 KB\n"
     ]
    }
   ],
   "source": [
    "data_set.info()"
   ]
  },
  {
   "cell_type": "markdown",
   "metadata": {},
   "source": [
    "Next look at some summary statistics using describe."
   ]
  },
  {
   "cell_type": "code",
   "execution_count": 6,
   "metadata": {},
   "outputs": [
    {
     "data": {
      "text/html": [
       "<div>\n",
       "<style scoped>\n",
       "    .dataframe tbody tr th:only-of-type {\n",
       "        vertical-align: middle;\n",
       "    }\n",
       "\n",
       "    .dataframe tbody tr th {\n",
       "        vertical-align: top;\n",
       "    }\n",
       "\n",
       "    .dataframe thead th {\n",
       "        text-align: right;\n",
       "    }\n",
       "</style>\n",
       "<table border=\"1\" class=\"dataframe\">\n",
       "  <thead>\n",
       "    <tr style=\"text-align: right;\">\n",
       "      <th></th>\n",
       "      <th>execution_time</th>\n",
       "      <th>no_of_mappers</th>\n",
       "      <th>no_of_Reducers</th>\n",
       "      <th>combiner_used</th>\n",
       "      <th>input_file_factor</th>\n",
       "    </tr>\n",
       "  </thead>\n",
       "  <tbody>\n",
       "    <tr>\n",
       "      <th>count</th>\n",
       "      <td>800.000000</td>\n",
       "      <td>800.000000</td>\n",
       "      <td>800.000000</td>\n",
       "      <td>800</td>\n",
       "      <td>800.0</td>\n",
       "    </tr>\n",
       "    <tr>\n",
       "      <th>unique</th>\n",
       "      <td>NaN</td>\n",
       "      <td>NaN</td>\n",
       "      <td>NaN</td>\n",
       "      <td>2</td>\n",
       "      <td>NaN</td>\n",
       "    </tr>\n",
       "    <tr>\n",
       "      <th>top</th>\n",
       "      <td>NaN</td>\n",
       "      <td>NaN</td>\n",
       "      <td>NaN</td>\n",
       "      <td>True</td>\n",
       "      <td>NaN</td>\n",
       "    </tr>\n",
       "    <tr>\n",
       "      <th>freq</th>\n",
       "      <td>NaN</td>\n",
       "      <td>NaN</td>\n",
       "      <td>NaN</td>\n",
       "      <td>400</td>\n",
       "      <td>NaN</td>\n",
       "    </tr>\n",
       "    <tr>\n",
       "      <th>mean</th>\n",
       "      <td>47.328462</td>\n",
       "      <td>10.500000</td>\n",
       "      <td>10.500000</td>\n",
       "      <td>NaN</td>\n",
       "      <td>100.0</td>\n",
       "    </tr>\n",
       "    <tr>\n",
       "      <th>std</th>\n",
       "      <td>16.042591</td>\n",
       "      <td>5.769889</td>\n",
       "      <td>5.769889</td>\n",
       "      <td>NaN</td>\n",
       "      <td>0.0</td>\n",
       "    </tr>\n",
       "    <tr>\n",
       "      <th>min</th>\n",
       "      <td>31.130000</td>\n",
       "      <td>1.000000</td>\n",
       "      <td>1.000000</td>\n",
       "      <td>NaN</td>\n",
       "      <td>100.0</td>\n",
       "    </tr>\n",
       "    <tr>\n",
       "      <th>25%</th>\n",
       "      <td>38.417500</td>\n",
       "      <td>5.750000</td>\n",
       "      <td>5.750000</td>\n",
       "      <td>NaN</td>\n",
       "      <td>100.0</td>\n",
       "    </tr>\n",
       "    <tr>\n",
       "      <th>50%</th>\n",
       "      <td>41.475000</td>\n",
       "      <td>10.500000</td>\n",
       "      <td>10.500000</td>\n",
       "      <td>NaN</td>\n",
       "      <td>100.0</td>\n",
       "    </tr>\n",
       "    <tr>\n",
       "      <th>75%</th>\n",
       "      <td>49.450000</td>\n",
       "      <td>15.250000</td>\n",
       "      <td>15.250000</td>\n",
       "      <td>NaN</td>\n",
       "      <td>100.0</td>\n",
       "    </tr>\n",
       "    <tr>\n",
       "      <th>max</th>\n",
       "      <td>142.880000</td>\n",
       "      <td>20.000000</td>\n",
       "      <td>20.000000</td>\n",
       "      <td>NaN</td>\n",
       "      <td>100.0</td>\n",
       "    </tr>\n",
       "  </tbody>\n",
       "</table>\n",
       "</div>"
      ],
      "text/plain": [
       "        execution_time  no_of_mappers  no_of_Reducers combiner_used  \\\n",
       "count       800.000000     800.000000      800.000000           800   \n",
       "unique             NaN            NaN             NaN             2   \n",
       "top                NaN            NaN             NaN          True   \n",
       "freq               NaN            NaN             NaN           400   \n",
       "mean         47.328462      10.500000       10.500000           NaN   \n",
       "std          16.042591       5.769889        5.769889           NaN   \n",
       "min          31.130000       1.000000        1.000000           NaN   \n",
       "25%          38.417500       5.750000        5.750000           NaN   \n",
       "50%          41.475000      10.500000       10.500000           NaN   \n",
       "75%          49.450000      15.250000       15.250000           NaN   \n",
       "max         142.880000      20.000000       20.000000           NaN   \n",
       "\n",
       "        input_file_factor  \n",
       "count               800.0  \n",
       "unique                NaN  \n",
       "top                   NaN  \n",
       "freq                  NaN  \n",
       "mean                100.0  \n",
       "std                   0.0  \n",
       "min                 100.0  \n",
       "25%                 100.0  \n",
       "50%                 100.0  \n",
       "75%                 100.0  \n",
       "max                 100.0  "
      ]
     },
     "execution_count": 6,
     "metadata": {},
     "output_type": "execute_result"
    }
   ],
   "source": [
    "data_set.describe(include='all')"
   ]
  },
  {
   "cell_type": "code",
   "execution_count": 7,
   "metadata": {},
   "outputs": [
    {
     "data": {
      "text/plain": [
       "[<matplotlib.lines.Line2D at 0x7ff6617061d0>]"
      ]
     },
     "execution_count": 7,
     "metadata": {},
     "output_type": "execute_result"
    },
    {
     "data": {
      "image/png": "[encoded data removed]",
      "text/plain": [
       "<Figure size 432x288 with 1 Axes>"
      ]
     },
     "metadata": {
      "needs_background": "light"
     },
     "output_type": "display_data"
    }
   ],
   "source": [
    "# Plots execution time vs number of mappers for fixed reducers and combiner\n",
    "\n",
    "fixed_number_of_reducers = 1\n",
    "use_combiners = False\n",
    "\n",
    "cond = (data_set[names[2]] == fixed_number_of_reducers) & (data_set[names[3]] == use_combiners)\n",
    "filt = data_set[cond]\n",
    "plt.plot(filt[names[1]], filt[names[0]])\n"
   ]
  },
  {
   "cell_type": "code",
   "execution_count": 8,
   "metadata": {},
   "outputs": [
    {
     "data": {
      "text/plain": [
       "[<matplotlib.lines.Line2D at 0x7ff66121d850>]"
      ]
     },
     "execution_count": 8,
     "metadata": {},
     "output_type": "execute_result"
    },
    {
     "data": {
      "image/png": "[encoded data removed]",
      "text/plain": [
       "<Figure size 432x288 with 1 Axes>"
      ]
     },
     "metadata": {
      "needs_background": "light"
     },
     "output_type": "display_data"
    }
   ],
   "source": [
    "# Plots execution time vs number of reducers for fixed mappers and combiner\n",
    "\n",
    "fixed_number_of_mappers = 1\n",
    "use_combiners = False\n",
    "\n",
    "cond = (data_set[names[1]] == fixed_number_of_mappers) & (data_set[names[3]] == use_combiners)\n",
    "filt = data_set[cond]\n",
    "plt.plot(filt[names[2]], filt[names[0]])"
   ]
  },
  {
   "cell_type": "code",
   "execution_count": 9,
   "metadata": {},
   "outputs": [
    {
     "data": {
      "text/plain": [
       "(array([ 48., 170., 210., 116.,  64.,  41.,  28.,  15.,  25.,  12.,  16.,\n",
       "         11.,   0.,   3.,   0.,   0.,   3.,  11.,   4.,   7.,  11.,   3.,\n",
       "          0.,   1.,   0.,   0.,   0.,   0.,   0.,   1.]),\n",
       " array([ 31.13 ,  34.855,  38.58 ,  42.305,  46.03 ,  49.755,  53.48 ,\n",
       "         57.205,  60.93 ,  64.655,  68.38 ,  72.105,  75.83 ,  79.555,\n",
       "         83.28 ,  87.005,  90.73 ,  94.455,  98.18 , 101.905, 105.63 ,\n",
       "        109.355, 113.08 , 116.805, 120.53 , 124.255, 127.98 , 131.705,\n",
       "        135.43 , 139.155, 142.88 ]),\n",
       " <a list of 30 Patch objects>)"
      ]
     },
     "execution_count": 9,
     "metadata": {},
     "output_type": "execute_result"
    },
    {
     "data": {
      "image/png": "[encoded data removed]",
      "text/plain": [
       "<Figure size 432x288 with 1 Axes>"
      ]
     },
     "metadata": {
      "needs_background": "light"
     },
     "output_type": "display_data"
    }
   ],
   "source": [
    "# Histogram of distribution of execution times\n",
    "plt.hist(data_set[names[0]], bins=30)"
   ]
  },
  {
   "cell_type": "code",
   "execution_count": 10,
   "metadata": {},
   "outputs": [
    {
     "name": "stdout",
     "output_type": "stream",
     "text": [
      "[ 1  2  3  4  5  6  7  8  9 10 11 12 13 14 15 16 17 18 19 20]\n"
     ]
    },
    {
     "data": {
      "text/plain": [
       "<matplotlib.legend.Legend at 0x7ff660d3c5d0>"
      ]
     },
     "execution_count": 10,
     "metadata": {},
     "output_type": "execute_result"
    },
    {
     "data": {
      "image/png": "[encoded data removed]",
      "text/plain": [
       "<Figure size 720x720 with 1 Axes>"
      ]
     },
     "metadata": {
      "needs_background": "light"
     },
     "output_type": "display_data"
    }
   ],
   "source": [
    "# Plots execution time vs number of mappers for fixed reducers and combiner\n",
    "\n",
    "fixed_number_of_reducers = 1\n",
    "\n",
    "cond_no_combiners = (data_set[names[2]] == fixed_number_of_reducers) & (data_set[names[3]] == False)\n",
    "cond_combiners = (data_set[names[2]] == fixed_number_of_reducers) & (data_set[names[3]] == True)\n",
    "\n",
    "labels = np.arange(1,21)\n",
    "print(labels)\n",
    "no_combiners = data_set.loc[cond_no_combiners, names[0]]\n",
    "combiners = data_set.loc[cond_combiners, names[0]]\n",
    "\n",
    "width = 0.40\n",
    "\n",
    "fig, ax = plt.subplots(figsize=(10,10))\n",
    "rects1 = ax.bar(labels - width/2, no_combiners, width, label='No Combiner')\n",
    "rects2 = ax.bar(labels + width/2, combiners, width, label='Combiner')\n",
    "\n",
    "\n",
    "ax.set_ylabel('Execution Time s')\n",
    "ax.set_title('Excution Time by Number of Mappers with number of reducers fixed at ' + str(fixed_number_of_reducers))\n",
    "ax.set_xticks(labels)\n",
    "ax.set_xticklabels(labels)\n",
    "ax.legend()\n"
   ]
  },
  {
   "cell_type": "code",
   "execution_count": null,
   "metadata": {},
   "outputs": [],
   "source": []
  },
  {
   "cell_type": "code",
   "execution_count": null,
   "metadata": {},
   "outputs": [],
   "source": []
  }
 ],
 "metadata": {
  "kernelspec": {
   "display_name": "Python 3",
   "language": "python",
   "name": "python3"
  },
  "language_info": {
   "codemirror_mode": {
    "name": "ipython",
    "version": 3
   },
   "file_extension": ".py",
   "mimetype": "text/x-python",
   "name": "python",
   "nbconvert_exporter": "python",
   "pygments_lexer": "ipython3",
   "version": "3.7.6"
  }
 },
 "nbformat": 4,
 "nbformat_minor": 4
}
